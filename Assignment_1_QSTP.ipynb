{
  "nbformat": 4,
  "nbformat_minor": 0,
  "metadata": {
    "colab": {
      "provenance": [],
      "include_colab_link": true
    },
    "kernelspec": {
      "name": "python3",
      "display_name": "Python 3"
    },
    "language_info": {
      "name": "python"
    }
  },
  "cells": [
    {
      "cell_type": "markdown",
      "metadata": {
        "id": "view-in-github",
        "colab_type": "text"
      },
      "source": [
        "<a href=\"https://colab.research.google.com/github/IntelligentCourage22/ansh02chat/blob/main/Assignment_1_QSTP.ipynb\" target=\"_parent\"><img src=\"https://colab.research.google.com/assets/colab-badge.svg\" alt=\"Open In Colab\"/></a>"
      ]
    },
    {
      "cell_type": "markdown",
      "source": [
        "Question 1:\n",
        "\n",
        "Write a Python script to analyze historical stock data for a NIFTY50 stock from Yahoo Finance for the period from August 1, 2023,  to July 29th, 2025. The script should:\n",
        "\n",
        "Install the necessary libraries (numpy, pandas, yfinance, matplotlib).\n",
        "Download the data for the given period.\n",
        "Extract the Open, High, Low, Close, Adj Close, and Volume columns.\n",
        "Calculate and plot the 14-day and 50-day relative strength index (RSI) on the same graph, with different colors for each RSI.\n",
        "Compute and visualize the daily percentage change in the Closing Prices and plot it as a histogram with appropriate bins.\n",
        "Create a subplot with three charts:\n",
        "The first chart should display the daily Closing Prices with 14-day and 50-day RSI.\n",
        "The second chart should show the daily Volume.\n",
        "The third chart should display the histogram of daily percentage changes.\n",
        "\n",
        "Deadline- 3rd August 11.59pm"
      ],
      "metadata": {
        "id": "Rds2FQSkjWCq"
      }
    },
    {
      "cell_type": "code",
      "execution_count": 1,
      "metadata": {
        "id": "3LJttMYajT03"
      },
      "outputs": [],
      "source": [
        "# Install necessary libraries\n",
        "# Import libraries\n",
        "import numpy as np\n",
        "import pandas as pd\n",
        "import yfinance as yf\n",
        "import matplotlib as mp"
      ]
    },
    {
      "cell_type": "code",
      "source": [
        "# Define the stock ticker and date range\n",
        "# Download historical stock data"
      ],
      "metadata": {
        "id": "B8SjXMnpmNNx"
      },
      "execution_count": null,
      "outputs": []
    },
    {
      "cell_type": "code",
      "source": [
        "# Extract the relevant columns"
      ],
      "metadata": {
        "id": "82vczMxtmWU3"
      },
      "execution_count": null,
      "outputs": []
    },
    {
      "cell_type": "code",
      "source": [
        "# Calculate the 14-day and 50-day relative strength index (RSI)"
      ],
      "metadata": {
        "id": "oc5dRNjOmYgE"
      },
      "execution_count": null,
      "outputs": []
    },
    {
      "cell_type": "code",
      "source": [
        "# Calculate the 14-day and 50-day exponential moving averages (EMAs)\n",
        "# Plot the Closing Prices with EMAs"
      ],
      "metadata": {
        "id": "70udfBv2ma_r"
      },
      "execution_count": null,
      "outputs": []
    },
    {
      "cell_type": "code",
      "source": [
        "# Calculate the daily percentage change in Closing Prices\n",
        "# Plot histogram of daily percentage changes"
      ],
      "metadata": {
        "id": "QnHDo__vmdoT"
      },
      "execution_count": null,
      "outputs": []
    },
    {
      "cell_type": "code",
      "source": [
        "# Create subplots\n",
        "# Plot Closing Prices and RSI\n",
        "# Plot Volume\n",
        "# Plot histogram of daily percentage changes"
      ],
      "metadata": {
        "id": "moW5OrKhmfiG"
      },
      "execution_count": null,
      "outputs": []
    }
  ]
}